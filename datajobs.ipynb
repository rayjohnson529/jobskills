{
 "cells": [
  {
   "cell_type": "code",
   "execution_count": null,
   "metadata": {},
   "outputs": [],
   "source": []
  },
  {
   "cell_type": "code",
   "execution_count": 1,
   "metadata": {},
   "outputs": [],
   "source": [
    "def hm(df1, val1, val2):\n",
    "    cmap = plt.cm.get_cmap()\n",
    "    colors = cmap(np.arange(cmap.N))\n",
    "    colors = colors.tolist()\n",
    "    l = [x for x in range (0, len(colors))]\n",
    "    ch = int(random.choice(l))\n",
    "    \n",
    "    relative_counts = df1.groupby([df1[val1], kdf[val2]]).size().groupby(level=0).apply(lambda x:\n",
    "                                                                        100*x / float(x.sum())).reset_index(name=\"percentage\")\n",
    "    str1, str2 = str(val1), str(val2)\n",
    "    relcounts = relative_counts.pivot(str1, str2, \"percentage\")\n",
    "    fig,ax = plt.subplots(figsize=(25,15))\n",
    "    ax = sns.heatmap(relcounts, linewidth=.5, cmap=colors[ch], annot=True, fmt=\"f\")"
   ]
  },
  {
   "cell_type": "code",
   "execution_count": null,
   "metadata": {},
   "outputs": [],
   "source": []
  }
 ],
 "metadata": {
  "kernelspec": {
   "display_name": "Python 3",
   "language": "python",
   "name": "python3"
  },
  "language_info": {
   "codemirror_mode": {
    "name": "ipython",
    "version": 3
   },
   "file_extension": ".py",
   "mimetype": "text/x-python",
   "name": "python",
   "nbconvert_exporter": "python",
   "pygments_lexer": "ipython3",
   "version": "3.6.5"
  }
 },
 "nbformat": 4,
 "nbformat_minor": 2
}
