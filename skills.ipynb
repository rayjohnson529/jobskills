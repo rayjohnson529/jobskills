{
  "cells": [
    {
      "metadata": {
        "_uuid": "8f2839f25d086af736a60e9eeb907d3b93b6e0e5",
        "_cell_guid": "b1076dfc-b9ad-4769-8c92-a6c4dae69d19",
        "trusted": true
      },
      "cell_type": "code",
      "source": "# This Python 3 environment comes with many helpful analytics libraries installed\n# It is defined by the kaggle/python docker image: https://github.com/kaggle/docker-python\n# For example, here's several helpful packages to load in \nimport warnings\nwarnings.filterwarnings(\"ignore\")\n\nimport numpy as np # linear algebra\nimport pandas as pd # data processing, CSV file I/O (e.g. pd.read_csv)\nimport matplotlib.pyplot as plt\nimport seaborn as sns \nimport squarify\nimport plotly.graph_objs as go\n\nfrom sklearn import preprocessing\nfrom plotly.offline import init_notebook_mode, iplot\n%pylab inline\nimport plotly.offline as py\n\n\nfrom collections import Counter\n\nimport os\nprint(os.listdir(\"../input\"))\n\npy.init_notebook_mode(connected=True)\n%matplotlib inline\n\n# import multiple csvs\nfrom glob import glob\n\n# set decimal format to not extend beyond 8\npd.options.display.float_format = '{:.2f}'.format\n\ngdf = pd.read_csv(\"../input/google-job-skills/job_skills.csv\")\nddf = pd.read_csv(\"../input/us-technology-jobs-on-dicecom/dice_com-job_us_sample.csv\")\nkdf = pd.read_csv(\"../input/../input/kaggle-survey-2017/multipleChoiceResponses.csv\", encoding=\"ISO-8859-1\", low_memory=False)\n# a way to import all into one df right away with option to ignore index\n'''df = pd.concat([pd.read_csv(f) for f in glob.glob('*.csv')], ignore_index = False)'''",
      "execution_count": null,
      "outputs": []
    },
    {
      "metadata": {
        "trusted": true,
        "_uuid": "9d0d212e7250c95b3f2517770545c7e9365fb286"
      },
      "cell_type": "code",
      "source": "gdfs = gdf.shape\nddfs = ddf.shape\nkdfs = kdf.shape\n\nprint(\"\\tShape of Google Data: \" + str(gdfs) + \"\\n \\n\\t\\t   *****\" + \"\\n\" + \"\\n\\tShape of Dice Data: \" + str(ddfs) + \"\\n \\n\\t\\t   *****\" + \"\\n\" + \"\\n\\tShape of Kaggle: \" + str(kdfs))",
      "execution_count": null,
      "outputs": []
    },
    {
      "metadata": {
        "trusted": true,
        "_uuid": "8d310c0ba4447528d29b24f57dfabc0e2c2a72c6"
      },
      "cell_type": "code",
      "source": "kdf.head()",
      "execution_count": null,
      "outputs": []
    },
    {
      "metadata": {
        "trusted": true,
        "_uuid": "20d2dde6686864c81728828a399f274a3bf9682c"
      },
      "cell_type": "code",
      "source": "\ntitle = kdf[\"CurrentJobTitleSelect\"]\n\ntime = kdf.LearningDataScienceTime\nlps = kdf['LearningPlatformSelect'].str.split(\",\", expand=True)\nlps = lps.values.flatten()\nlps = pd.Series(lps)\nlps = lps[lps.notnull()].to_frame()\nlps.columns=[\"LearningMethod\"]\ntimejob = pd.concat([title, lps], axis=1)\ntimejob.dropna()\n\n",
      "execution_count": null,
      "outputs": []
    },
    {
      "metadata": {
        "trusted": true,
        "_uuid": "b66aebbf8f54f102a3b1a591c90d58463b5d1003"
      },
      "cell_type": "code",
      "source": "from plotly.tools import FigureFactory as FF\nfrom plotly.offline import plot, download_plotlyjs, init_notebook_mode, iplot\nfrom plotly.graph_objs import *\ninit_notebook_mode()",
      "execution_count": null,
      "outputs": []
    },
    {
      "metadata": {
        "trusted": true,
        "scrolled": true,
        "_uuid": "9bd973be9352c024d5c3656be579416d06c0fab4"
      },
      "cell_type": "code",
      "source": "kdf['LearningDataScienceTime'].value_counts().plot.bar()",
      "execution_count": null,
      "outputs": []
    },
    {
      "metadata": {
        "_uuid": "cd4e4c746f351b4f3b4093d1c59f145cda4495d6"
      },
      "cell_type": "markdown",
      "source": "## Let's Look at What Groups of Employed People Use What to Learn"
    },
    {
      "metadata": {
        "_uuid": "20294e14fd4d4c50686312184791b124cb94a174"
      },
      "cell_type": "markdown",
      "source": "## Random Color Heatmap Generator\nFirst, we have to create a list of lists which represent all available color schemes for heatmaps."
    },
    {
      "metadata": {
        "trusted": true,
        "_uuid": "ed5c5aba6f31900d57159dc3279d54b604df3664"
      },
      "cell_type": "code",
      "source": "cmap = plt.cm.get_cmap()\ncolors = cmap(np.arange(cmap.N))\ncolors = colors.tolist()\nl = [x for x in range (0, len(colors))]\nch = int(random.choice(l))\ncolors[ch]",
      "execution_count": null,
      "outputs": []
    },
    {
      "metadata": {
        "_uuid": "a3b7877248470bf31cf7beb23dea4d86023d4207"
      },
      "cell_type": "markdown",
      "source": "## How to Use It\nInset your dataframe and columns to compare in the format (df, val1, val2). A heatmap will appear showing the percent of each of value 1 chose value 2.\n\nFor example, see the code and result right below. "
    },
    {
      "metadata": {
        "trusted": true,
        "_uuid": "b19f0990e27f26e93025365cc537bcc0442137d3"
      },
      "cell_type": "code",
      "source": "def hm(df1, val1, val2):\n    cmap = plt.cm.get_cmap()\n    colors = cmap(np.arange(cmap.N))\n    colors = colors.tolist()\n    l = [x for x in range (0, len(colors))]\n    ch = int(random.choice(l))\n    \n    relative_counts = df1.groupby([df1[val1], kdf[val2]]).size().groupby(level=0).apply(lambda x:\n                                                                        100*x / float(x.sum())).reset_index(name=\"percentage\")\n    str1, str2 = str(val1), str(val2)\n    relcounts = relative_counts.pivot(str1, str2, \"percentage\")\n    fig,ax = plt.subplots(figsize=(25,15))\n    ax = sns.heatmap(relcounts, linewidth=.5, cmap=colors[ch], annot=True, fmt=\"f\")",
      "execution_count": null,
      "outputs": []
    },
    {
      "metadata": {
        "_uuid": "4d3b9a01f797c8cc6609fdcc7a3940c3ffebf083"
      },
      "cell_type": "markdown",
      "source": "### Respondents Job Titles and Job Resources\nResource respondents which various current job titles used to get their current role."
    },
    {
      "metadata": {
        "trusted": true,
        "_uuid": "ee416936c34e44e261c63b360a37f223024fc5c7"
      },
      "cell_type": "code",
      "source": "hm(kdf, \"CurrentJobTitleSelect\", \"JobSearchResource\")",
      "execution_count": null,
      "outputs": []
    },
    {
      "metadata": {
        "_uuid": "656cc00fbb6a448c289e3e9b544893fefee9fb62"
      },
      "cell_type": "markdown",
      "source": "## Done Manually\n"
    },
    {
      "metadata": {
        "trusted": true,
        "_uuid": "cd9c4db0b2e536a66d2c0724095d1ffc234473ac"
      },
      "cell_type": "code",
      "source": "\nrelative_counts = timejob.groupby([timejob.CurrentJobTitleSelect, timejob.LearningMethod]).size().groupby(level=0).apply(lambda x:                            100 * x / float(x.sum())).reset_index(name=\"percentage\")\nrelcounts = relative_counts.pivot(\"CurrentJobTitleSelect\", \"LearningMethod\", \"percentage\")\nfig, ax = plt.subplots(figsize=(25,15))\nax = sns.heatmap(relcounts, linewidth=.5, cmap=\"Greens\", annot=True, fmt=\"f\")",
      "execution_count": null,
      "outputs": []
    },
    {
      "metadata": {
        "trusted": true,
        "_uuid": "1a4c4af61d6d887399f17b9b212dc7f7066c31ef"
      },
      "cell_type": "code",
      "source": "hm(timejob, \"CurrentJobTitleSelect\", \"LearningMethod\")",
      "execution_count": null,
      "outputs": []
    },
    {
      "metadata": {
        "trusted": true,
        "_uuid": "5401dc9fd5fccaf06d440e9648464a8d411c5dd8"
      },
      "cell_type": "code",
      "source": "ax = sns.countplot(x = lps['LearningMethod'], data = lps, order=lps['LearningMethod'].value_counts(ascending=True).index)\nax.set(ylabel='\\nCount')\nax.set_axisbelow(True)\nax.set_xticklabels(ax.get_xticklabels(), fontsize=12,rotation = 40, ha = \"right\")\nax.grid(True)\nsns.set_style(\"dark\")\nsns.set_context(\"notebook\", rc={\"font.size\":12,\"axes.titlesize\":20,\"axes.labelsize\":12})   \nplt.title(\"Learning Method Recommendation\\n\")\nplt.tight_layout\nplt.figure(figsize=(20,10))\n\nplt.show()",
      "execution_count": null,
      "outputs": []
    },
    {
      "metadata": {
        "trusted": true,
        "_uuid": "308e3faf91ed3c951cbf4f7261ebe1ff08928ca9"
      },
      "cell_type": "code",
      "source": "relative_counts = kdf.groupby([kdf.EmploymentStatus, kdf.JobSkillImportanceDegree]).size().groupby(level=0).apply(lambda x:\n                                                 100 * x / float(x.sum())).reset_index(name=\"percentage\")\nrelcounts = relative_counts.pivot(\"EmploymentStatus\", \"JobSkillImportanceDegree\", \"percentage\")\nfig, ax = plt.subplots(figsize=(8,8))\nax = sns.heatmap(relcounts, linewidth=.5, cmap=\"Blues\")",
      "execution_count": null,
      "outputs": []
    },
    {
      "metadata": {
        "trusted": true,
        "_uuid": "3882ab9ee0af850c35e63e30076b159c213571ac"
      },
      "cell_type": "code",
      "source": "kdf['EmploymentStatus'].value_counts()",
      "execution_count": null,
      "outputs": []
    },
    {
      "metadata": {
        "trusted": true,
        "_uuid": "52f1b59497a8b6c7c7ce7c0833c2a28e0601296c"
      },
      "cell_type": "code",
      "source": "",
      "execution_count": null,
      "outputs": []
    },
    {
      "metadata": {
        "_uuid": "450f91edac39e8839780851704966c47ae53de45"
      },
      "cell_type": "markdown",
      "source": "Many more observations came from Dice data, which makes since because it covers jobs which are from a range of businesses compared to Google; Dice data also includes more features.\n\nKaggle includes an extraordinary amount of observations (that is, 16,716 people surveyed) as well as features (questions asked). This is logical but overwhelming. First, I'd like to pay attention to Google and Dice.\n\nLet's identify the columns may be different names for the same thing in the Dice/Google dfs as well as what kind features were reporting in Kaggle's 2017 survey."
    },
    {
      "metadata": {
        "trusted": true,
        "_uuid": "ff2424246e0f6e9bafdf737ef0151d04d8c156b0"
      },
      "cell_type": "code",
      "source": "print('The total number of respondents:',kdf.shape[0])\nprint('Total number of Countries with respondents:',kdf['Country'].nunique())\nprint('Country with highest respondents:',kdf['Country'].value_counts().index[0],'with',kdf['Country'].value_counts().values[0],'respondents')\nprint('Youngest respondent:',kdf['Age'].min(),' and Oldest respondent:', kdf['Age'].max())\nprint('{} instances seem too old (>70 years old)'.format(len(kdf[kdf['Age']>65])))\nprint('{} instances seem too old (<18 years old)'.format(len(kdf[kdf['Age']<18])))\n",
      "execution_count": null,
      "outputs": []
    },
    {
      "metadata": {
        "_uuid": "2126aac016f4a309946010950bb8e4d1a01e6f13"
      },
      "cell_type": "markdown",
      "source": "Clean up salaries - remove all nulls, replace commas, use tilde to get the data which doesn't contain hyphens, etc. Convert all to float"
    },
    {
      "metadata": {
        "trusted": true,
        "_uuid": "b78a5461d2596466e337494a9ca8c662c75ed56a"
      },
      "cell_type": "code",
      "source": "kdf['GenderSelect'].value_counts().plot.bar()",
      "execution_count": null,
      "outputs": []
    },
    {
      "metadata": {
        "_uuid": "5c9ba548d1ddf3b7d71645aae9cc24c16b26fde4"
      },
      "cell_type": "markdown",
      "source": "## What Language Should we Learn?"
    },
    {
      "metadata": {
        "trusted": true,
        "_uuid": "2f8fc779f7de8a76da95ce4ed47993ffde10391c"
      },
      "cell_type": "code",
      "source": "plt.figure(figsize(12,7))\nax = sns.countplot(x = kdf['LanguageRecommendationSelect'], data = kdf)\nax.set_xticklabels(ax.get_xticklabels(), rotation=40, ha=\"right\")\nplt.tight_layout()\nplt.show()",
      "execution_count": null,
      "outputs": []
    },
    {
      "metadata": {
        "trusted": true,
        "_uuid": "dcd73ca829436ceabd0adf98b83413fc100df923"
      },
      "cell_type": "code",
      "source": "kcomp = kdf[kdf['CompensationAmount'].notnull()]\nkcomp['CompAmountClean'] = kcomp['CompensationAmount'].str.replace(',','')\n\nkcomp = kcomp.loc[~kcomp['CompAmountClean'].str.contains('-')]\nkcomp['CompAmountClean'] = kcomp['CompAmountClean'].astype(float)\n\nrates = pd.read_csv('../input/kaggle-survey-2017/conversionRates.csv')\nkcomp_merged = pd.merge(left=kcomp, right=rates, left_on='CompensationCurrency', right_on='originCountry')\nkcomp_merged['CompensationAmountUSD'] = kcomp_merged['CompAmountClean'] * kcomp_merged['exchangeRate']\n\nkdfcomp = kcomp_merged[['CompensationAmountUSD', 'GenderSelect','MajorSelect','CurrentJobTitleSelect','FormalEducation','Country','Age','LanguageRecommendationSelect','LearningPlatformSelect', 'EmploymentStatus']]\nkdfcomp.head(10)",
      "execution_count": null,
      "outputs": []
    },
    {
      "metadata": {
        "trusted": true,
        "_uuid": "d24c4115c86a1070755c32441df717fb1d3d37c8"
      },
      "cell_type": "code",
      "source": "printfriendlycomp = kdfcomp['CompensationAmountUSD'].astype(int)\nprint('Max Salary in USD $', printfriendlycomp.max())\nprint('Min Salary in USD $', printfriendlycomp.min())\nprint('Median Salary in USD $', printfriendlycomp.median())",
      "execution_count": null,
      "outputs": []
    },
    {
      "metadata": {
        "_uuid": "2c67eadb3bbceefcb4910a0d905b446aa2b019cd"
      },
      "cell_type": "markdown",
      "source": "That huge salary discrepency has to be delt with. The upper end is much too large to be realistic. "
    },
    {
      "metadata": {
        "trusted": true,
        "_uuid": "c5cdd8859a86c9f5aac7c8f1595d8cafb2d650aa"
      },
      "cell_type": "code",
      "source": "plt.subplots(figsize=(15,8))\n# get only the values less than a million dollars\nsalary=kdfcomp[kdfcomp['CompensationAmountUSD'] < 1000000]\nsns.distplot(salary['CompensationAmountUSD'])\nplt.title('Salary Distribution\\n', size = 20)\nplt.show()",
      "execution_count": null,
      "outputs": []
    },
    {
      "metadata": {
        "_uuid": "865fb1e882ce0f286c44d216823f8ef11178ec07"
      },
      "cell_type": "markdown",
      "source": "Find unique FormalEducation values."
    },
    {
      "metadata": {
        "trusted": true,
        "_uuid": "5f5ab530f8575c9a2df621ba3b43c49c54e556fc"
      },
      "cell_type": "code",
      "source": "edset = set(kdfcomp['FormalEducation'])\nedset",
      "execution_count": null,
      "outputs": []
    },
    {
      "metadata": {
        "_uuid": "a685c2ad805b3c713a8e72170996fae3635ff394"
      },
      "cell_type": "markdown",
      "source": "## Employment"
    },
    {
      "metadata": {
        "trusted": true,
        "_uuid": "0ac57761e31e6d4fc3a5f5252fff981766ce7728"
      },
      "cell_type": "code",
      "source": "kdf['EmploymentStatus'].value_counts().plot.bar()",
      "execution_count": null,
      "outputs": []
    },
    {
      "metadata": {
        "_uuid": "608c9da70d32d33f9f0a765491b1e903be87d51d"
      },
      "cell_type": "markdown",
      "source": "## Let's see it as a percent of all respondents"
    },
    {
      "metadata": {
        "trusted": true,
        "_uuid": "5c5d8790b1c2de079de405bd200a7b8dc03df3c6"
      },
      "cell_type": "code",
      "source": "(kdf['EmploymentStatus'].value_counts()/len(kdf['EmploymentStatus'])).plot.bar()",
      "execution_count": null,
      "outputs": []
    },
    {
      "metadata": {
        "trusted": true,
        "_uuid": "f38a0e57d7d65e6cae9916c376defc656ad483aa"
      },
      "cell_type": "code",
      "source": "status = kdfcomp['EmploymentStatus'].value_counts()\nsns.barplot(y = status.index, x = status.values, alpha = 0.6)\nplt.show()",
      "execution_count": null,
      "outputs": []
    },
    {
      "metadata": {
        "trusted": true,
        "_uuid": "d7864f83e346d36cee6c5ab8d3bf62968f82b713"
      },
      "cell_type": "code",
      "source": "fig, ax = plt.subplots()\nfig.set_size_inches(21, 18)\nax = sns.boxplot(x=salary[\"GenderSelect\"],y=salary[\"CompensationAmountUSD\"], hue=kdfcomp['FormalEducation'], data=salary, palette=\"Set3\")\nax.legend(loc='middle', bbox_to_anchor=(.4, .5))",
      "execution_count": null,
      "outputs": []
    },
    {
      "metadata": {
        "trusted": true,
        "_uuid": "9e1c356ac2d22d016ae0d6527d0b4a9e422fe840"
      },
      "cell_type": "code",
      "source": "plt.subplots(figsize=(10,8))\nsns.boxplot(y=salary['GenderSelect'], x = salary['CompensationAmountUSD'], data = salary)\nplt.ylabel(' ')\nplt.show()",
      "execution_count": null,
      "outputs": []
    },
    {
      "metadata": {
        "_uuid": "e44d593db58bb2a9f323a59a41cf95e36ce0259d"
      },
      "cell_type": "markdown",
      "source": "  ## Age\n"
    },
    {
      "metadata": {
        "trusted": true,
        "_uuid": "a588a0e1277e0cd97d7f1c590d8b4d94c4c1f4e8"
      },
      "cell_type": "code",
      "source": "plt.subplots(figsize=(15,8))\nsalary['Age'].hist(bins=50, edgecolor='black')\nplt.xticks(list(range(0,80,5)))\nplt.title('Age Range')\nplt.show()",
      "execution_count": null,
      "outputs": []
    },
    {
      "metadata": {
        "trusted": true,
        "_uuid": "124ccfd8d1bf3936ccc12f0cd5dc6febc2ca96a4"
      },
      "cell_type": "code",
      "source": "",
      "execution_count": null,
      "outputs": []
    },
    {
      "metadata": {
        "trusted": true,
        "_uuid": "c74e76809a6d08b21771c6a35df446326905e21b"
      },
      "cell_type": "code",
      "source": "",
      "execution_count": null,
      "outputs": []
    },
    {
      "metadata": {
        "trusted": true,
        "_uuid": "e46466500a9640f57e1a2533372e5e6bfb682c4c"
      },
      "cell_type": "code",
      "source": "kdfmajorlist = [x for x in kdfcomp['MajorSelect']]\nmajorlist = {}\nfor x in kdfmajorlist:\n    if x in majorlist:\n        majorlist[x] +=1\n    else:\n        majorlist[x] = 1\nmajorlist",
      "execution_count": null,
      "outputs": []
    },
    {
      "metadata": {
        "trusted": true,
        "_uuid": "379a012d6b672bd32d0172bad8c06e0ccb0b69fb"
      },
      "cell_type": "code",
      "source": "groups = df_clean.groupby(['MajorSelect'])\n\nfig = plt.figure(figsize=(16, 9))\nax = fig.add_subplot(111)\n\nsorted_medians = groups['CompensationAmountUSD'].median().sort_values()\nax = sorted_medians.plot(kind='barh', color=(117/255., 148/255., 205/255.))\n# xaxis and yaxis conf\nax.xaxis.tick_top()\nax.set_xlabel('USD', fontsize=14)\nax.xaxis.set_label_position('top')\nax.yaxis.label.set_visible(False)\n# configure ticks\nplt.tick_params(\n        axis='both',  # changes apply to the x-axis and y-axis\n        which='both',  ",
      "execution_count": null,
      "outputs": []
    },
    {
      "metadata": {
        "trusted": true,
        "_uuid": "42ecd44dd1addced024dc59c9b6b7a2873683ab5"
      },
      "cell_type": "code",
      "source": "\n",
      "execution_count": null,
      "outputs": []
    },
    {
      "metadata": {
        "trusted": true,
        "_uuid": "0e33fa7a253bed00554dc09a72d09b088ac0f973"
      },
      "cell_type": "code",
      "source": "\n",
      "execution_count": null,
      "outputs": []
    },
    {
      "metadata": {
        "trusted": true,
        "_uuid": "7e1950630956dcb02830a552c35d9d0a2b922d6e"
      },
      "cell_type": "code",
      "source": "",
      "execution_count": null,
      "outputs": []
    },
    {
      "metadata": {
        "trusted": true,
        "_uuid": "37044482faa1a4075eec8f9d8240b55b9e9329da"
      },
      "cell_type": "code",
      "source": "",
      "execution_count": null,
      "outputs": []
    },
    {
      "metadata": {
        "trusted": true,
        "_uuid": "8ddebd85238f54a8bb76e841854531e3b46ad7db"
      },
      "cell_type": "code",
      "source": "",
      "execution_count": null,
      "outputs": []
    },
    {
      "metadata": {
        "trusted": true,
        "_uuid": "269d3d54457baf45e0eef9cc3b5c49dd3b1f0f8a"
      },
      "cell_type": "code",
      "source": "\n\ngroups = kdf.groupby(['MajorSelect'])\n\nfig = plt.figure(figsize=(16, 9))\nax = fig.add_subplot(111)\n\nsorted_medians = groups['CompensationAmount'].median().sort_values()\nax = sorted_medians.plot(kind='barh', color=(117/255., 148/255., 205/255.))\n# xaxis and yaxis conf\nax.xaxis.tick_top()\nax.set_xlabel('USD', fontsize=14)\nax.xaxis.set_label_position('top')\nax.yaxis.label.set_visible(False)\n# configure ticks\nplt.tick_params(\n        axis='both',  # changes apply to the x-axis and y-axis\n        which='both',  # both major and minor ticks are affected\n        bottom='off',  # ticks along the bottom edge are off\n        top='on',  # ticks along the top edge are off\n        right='off',\n        left='off'\n    )\n# configure xticks & yticks\nplt.yticks(fontsize=14, alpha=0.8)\nplt.xticks(fontsize=14, alpha=0.8)\n# remove border figure\nax.spines[\"top\"].set_visible(False)\nax.spines[\"bottom\"].set_visible(False)\nax.spines[\"right\"].set_visible(False)\nax.spines[\"left\"].set_visible(False)\nplt.xticks(alpha=0.8)\nplt.yticks(alpha=0.8)\nplt.title('Median Compensation in USD by Undergraduate Major', fontsize=16, alpha=0.8, y=1.13, x=0.2)\n# source\nplt.text(60000, 0.01,\n             'Source: Kaggle ML and Data Science Survey, 2017',\n             fontsize=11,\n             style='italic',\n             alpha=0.7)\nplt.tight_layout()\nplt.show()",
      "execution_count": null,
      "outputs": []
    },
    {
      "metadata": {
        "_uuid": "34538c652895cce68e4a4be69a2ab69e77d6005d"
      },
      "cell_type": "markdown",
      "source": "Youngest and oldest respondent seems fake. Should investigate this."
    },
    {
      "metadata": {
        "trusted": true,
        "_uuid": "aa11c35e15390223a98a6946c33d8d17f9ee08fa"
      },
      "cell_type": "code",
      "source": "kdfcols = [x for x in kdf.columns]\nprint(\"GDF Cols\\n\" + str(list(gdf.columns)) + \"\\n\\nDDF Cols\\n\" + str(list(ddf.columns)) + \"\\n\\nKDF Cols\\n\" + str(kdfcols))\n",
      "execution_count": null,
      "outputs": []
    },
    {
      "metadata": {
        "trusted": true,
        "_uuid": "413e36a524e017d590a8046d312987f15d8b71ed"
      },
      "cell_type": "markdown",
      "source": "It looks like they are some obvious ones which can be adjusted: jobtitle, company, joblocation_address, etc. \n\nThere are also some that stand out as useless for our sake: shift, jobid, uniq_id for sure and others which deserve better names for our own recognition. Let's see what some of them are."
    },
    {
      "metadata": {
        "trusted": true,
        "_uuid": "0dfb6028e7cae4e75ced5dad13ea87814e02cf7a"
      },
      "cell_type": "code",
      "source": "resp_coun=kdf['Country'].value_counts()[:15].to_frame()\nsns.barplot(resp_coun['Country'],resp_coun.index,palette='inferno')\nplt.title('Top 15 Countries by number of respondents')\nplt.xlabel('')\nfig=plt.gcf()\nfig.set_size_inches(10,10)\nplt.show()\ntree=kdf['Country'].value_counts().to_frame()\nsquarify.plot(sizes=tree['Country'].values,label=tree.index,color=sns.color_palette('RdYlGn_r',52))\nplt.rcParams.update({'font.size':20})\nfig=plt.gcf()\nfig.set_size_inches(40,15)\nplt.show()",
      "execution_count": null,
      "outputs": []
    },
    {
      "metadata": {
        "trusted": true,
        "_uuid": "eb675b8b1ad48ba11615b20a190beaf40ceecf93"
      },
      "cell_type": "code",
      "source": "age = kdf[(kdf['Age']>=16) & (kdf['Age']<= 70)]\nplt.figure(figsize=(10,8))\nsns.boxplot(y = age['Age'], data = age)\nplt.title(\"Age Box Plot\\n\", fontsize=16)\nplt.ylabel(\"Age\\n\", fontsize = 16)\nplt.show()",
      "execution_count": null,
      "outputs": []
    },
    {
      "metadata": {
        "trusted": true,
        "_uuid": "81571c762d2532429d935b7536fbd7396c198e3a"
      },
      "cell_type": "code",
      "source": "plt.subplots(figsize=(22,12))\nsns.countplot(y=kdf['GenderSelect'],order=kdf['GenderSelect'].value_counts().index)\nplt.show()",
      "execution_count": null,
      "outputs": []
    },
    {
      "metadata": {
        "trusted": true,
        "_uuid": "003f3d6c8429a6bd305cfdbf06c7f29194ef6f25"
      },
      "cell_type": "code",
      "source": "plt.figure(figsize=(12,8))\ncountries = kdf['Country'].value_counts().head(30)\nsns.barplot(y = countries.index, x =countries.values, alpha = 0.6)\nplt.title(\"Country Distribution of the survey participants\\n\", fontsize = 16)\nplt.xlabel(\"Number of Participants\\n\", fontsize = 16)\nplt.ylabel(\"Country\", fontsize = 16)\nplt.show()",
      "execution_count": null,
      "outputs": []
    },
    {
      "metadata": {
        "trusted": true,
        "_uuid": "608fff89f848a90ac9d23222221f821cd4212ee4"
      },
      "cell_type": "code",
      "source": "edu = kdf['FormalEducation'].value_counts()\nlabels = (np.array(edu.index))\n\nvalues = (np.array((edu / edu.sum())*100))\n\ntrace = go.Pie(labels=labels, values=values,\n              hoverinfo='label+percent',\n               textfont=dict(size=20),\n                showlegend=False)\n\nlayout = go.Layout(\n    title='Formal Education of the survey participants'\n)\n\ndata_trace = [trace]\nfig = go.Figure(data=data_trace, layout=layout)\npy.iplot(fig, filename=\"Formal_Education\")",
      "execution_count": null,
      "outputs": []
    },
    {
      "metadata": {
        "trusted": true,
        "_uuid": "04bb5f22f9cc7b6c272b7e495bbf00ad7858ad9c"
      },
      "cell_type": "code",
      "source": "plt.style.use('fivethirtyeight')\npylab.rcParams['figure.figsize'] = (10.0, 8.0)\n\nplot = kdf[kdf.GenderSelect.isnull() == False].groupby(kdf.GenderSelect).GenderSelect.count().plot.bar()\nplot = plt.title(\"Number of Respondents by Gender\")",
      "execution_count": null,
      "outputs": []
    },
    {
      "metadata": {
        "trusted": true,
        "_uuid": "10181c876636aaf4d53e4416a69a2b5bbd195b9c"
      },
      "cell_type": "code",
      "source": "filtered_kdf = kdf[(kdf.GenderSelect.isnull() == False) & (kdf.Country.isnull() == False)]\n\ndef getFemaleMaleRatio(df):\n    counts_by_gender = kdf.groupby('GenderSelect').GenderSelect.count()\n    return counts_by_gender[0]/counts_by_gender[1]\n\ngroup_by_country = filtered_kdf.groupby(kdf.Country)\nratios = group_by_country.apply(getFemaleMaleRatio)\nprint(\"Maximum Female/Male Ratio: \", ratios.idxmax(), ratios.max())\nprint(\"Minimum Female/Male Ratio: \", ratios.idxmin(), ratios.min())\n\nfig, ax = plt.subplots()\nkdf[kdf.GenderSelect == 'Male'].Age.plot.hist(bins=100, ax=ax, alpha=0.5)\nkdf[kdf.GenderSelect == 'Female'].Age.plot.hist(bins=100, ax=ax, alpha=0.8)\nlegend = ax.legend(['Male', 'Female'])\nplot = plt.title(\"Age distribution for Male and Female Data Scientists\")",
      "execution_count": null,
      "outputs": []
    },
    {
      "metadata": {
        "trusted": true,
        "_uuid": "ebc38ceca7d0901572c549647146261978636e68"
      },
      "cell_type": "code",
      "source": "import random\ngdf['Responsibilities'][random.randint(0, 1250)]",
      "execution_count": null,
      "outputs": []
    },
    {
      "metadata": {
        "_uuid": "6606792ff5350150193105e5af0c60b6818a92b4"
      },
      "cell_type": "markdown",
      "source": "Get an idea by getting a random observation. I think this is helpful to get a feel for what the cell contains, especially in considering where we might get something comparable to relevant skills from."
    },
    {
      "metadata": {
        "trusted": true,
        "_uuid": "026084c8c5b37575b0afd173d521cc9c77faf84e"
      },
      "cell_type": "code",
      "source": "\n# function to allow you to enter df and col name to retrieve a random full length sample of a observation\n# useful to see what the df looks like \ndef dobs(df, cols):\n    import random\n    if cols is str:\n        countcol = df[cols].count()\n        randobs = random.randint(0,countcol)\n        obs = df[cols][randobs]\n    # allow someone to enter \n    else:\n        countcol = df.iloc[:, cols].count()\n        randobs = random.randint(0,countcol)\n        obs = df.iloc[randobs, cols]\n    print(df.columns[cols] + \"\\n\" + obs)",
      "execution_count": null,
      "outputs": []
    },
    {
      "metadata": {
        "trusted": true,
        "_uuid": "0f6a25810f11e64e84098f2828a3cc4257b59e92"
      },
      "cell_type": "code",
      "source": "gdf.iloc[:, 2].count()",
      "execution_count": null,
      "outputs": []
    },
    {
      "metadata": {
        "trusted": true,
        "_uuid": "71c08239d762ec6693d6768c77b1e6df720b9d31"
      },
      "cell_type": "code",
      "source": "dobs(gdf, 4)",
      "execution_count": null,
      "outputs": []
    },
    {
      "metadata": {
        "trusted": true,
        "_uuid": "1e8cd25f62d0d951404bcc75c05d959d5da9bd00"
      },
      "cell_type": "code",
      "source": "gdf['Minimum Qualifications'].count()",
      "execution_count": null,
      "outputs": []
    },
    {
      "metadata": {
        "trusted": true,
        "_uuid": "725e0316c4257ef074ff28ab42dd21c62268caac"
      },
      "cell_type": "code",
      "source": "# make df and gdf columns match\nddf = ddf.rename(columns={'jobtitle':'Title', 'company':'Company', 'joblocation_address':'Location'})\n\n\n# find out features we can't combine right away\nmissing_features = []\nfor col in gdf.columns:\n    if col not in ddf.columns:\n        missing_features.append(col)\nmissing_features\n\n# find out features which exist in both\ngsc = gdf[gdf.columns.intersection(ddf.columns)]\ndsc = ddf[ddf.columns.intersection(gdf.columns)]\n\n",
      "execution_count": null,
      "outputs": []
    },
    {
      "metadata": {
        "trusted": true,
        "_uuid": "2ab89bb0156c7bac7e001bb20e77735c5f95edbd"
      },
      "cell_type": "code",
      "source": "dobs(dsc, )",
      "execution_count": null,
      "outputs": []
    },
    {
      "metadata": {
        "trusted": true,
        "_uuid": "9ff72bb1f537a65587f61fe3901a2697f15a62c0"
      },
      "cell_type": "code",
      "source": "# jobs in general\nddf['Title'].count()\ngdf['Title'].count()",
      "execution_count": null,
      "outputs": []
    },
    {
      "metadata": {
        "trusted": true,
        "_uuid": "78626cbaa40f92a7da6392b94f01ac49a2e661a4"
      },
      "cell_type": "code",
      "source": "\ngdj = gdf[gdf['Title'].str.contains('Data') | gdf['Title'].str.contains('data')]\ngdj.head()\n",
      "execution_count": null,
      "outputs": []
    },
    {
      "metadata": {
        "trusted": true,
        "_uuid": "6888f3a51e38e659e3653e7b09e5daeaefc00bc8"
      },
      "cell_type": "code",
      "source": "gdj['Minimum Qualifications'].iloc[0]\n",
      "execution_count": null,
      "outputs": []
    },
    {
      "metadata": {
        "trusted": true,
        "_uuid": "3d7ef8f1b441b66763780278bdb1bf02402cffd4"
      },
      "cell_type": "code",
      "source": "import re\n# get all which start with experience\nskllcon= gdf['Minimum Qualifications'].str.contains('(?:^|\\W)experience\\s(.*)', case=False, regex=True)\ngdf['skills1']\nskllcon",
      "execution_count": null,
      "outputs": []
    },
    {
      "metadata": {
        "trusted": true,
        "_uuid": "f9edda8d80b33639570c242a3bfd90e57bfc0ee4"
      },
      "cell_type": "code",
      "source": "gdf['skills']",
      "execution_count": null,
      "outputs": []
    },
    {
      "metadata": {
        "trusted": true,
        "_uuid": "806b6b77d7b4be96d592b35c1127068f2c08754b"
      },
      "cell_type": "code",
      "source": "import re",
      "execution_count": null,
      "outputs": []
    },
    {
      "metadata": {
        "trusted": true,
        "_uuid": "3bc02f562d379b4686a90139921797d0376bd005"
      },
      "cell_type": "code",
      "source": "match = re.search(r'experience\\s(.*)', gdj['Minimum Qualifications'].iloc[21])\nprint(match)",
      "execution_count": null,
      "outputs": []
    },
    {
      "metadata": {
        "trusted": true,
        "_uuid": "94fae180a14ea9a16924333008f6720d465ff8a5"
      },
      "cell_type": "code",
      "source": "ge = gdf['skills'].str.split(',')\nge",
      "execution_count": null,
      "outputs": []
    },
    {
      "metadata": {
        "trusted": true,
        "_uuid": "ace8a4740c160c44b5abfa4e5176156dde0cb2a7"
      },
      "cell_type": "code",
      "source": "",
      "execution_count": null,
      "outputs": []
    },
    {
      "metadata": {
        "trusted": true,
        "_uuid": "9da7707195d0303da6976dca2e4a008cbe8d1743"
      },
      "cell_type": "code",
      "source": "# skills expanded, parsed by comma\nse = df['skills'].str.split(',', expand=True)\nge = gdf['skills'].str.split(',', expand=True)\n\n# generate col names\nnum = 1\nnew_names = []\n\nfor col in se.columns:\n    col = \"Skill \" + str(num)\n    new_names.append(col)\n    num += 1\n# set col names\nse.columns = new_names\n\n# turn into a new df with expanded columns\nnewdf = pd.concat([df,se], axis=1)\nnewdf",
      "execution_count": null,
      "outputs": []
    },
    {
      "metadata": {
        "_uuid": "b02881ba00d29badf892faf0205f8776e1a415f3"
      },
      "cell_type": "markdown",
      "source": "### Just the data analysis jobs"
    },
    {
      "metadata": {
        "trusted": true,
        "_uuid": "31e549c68415c7c76908fa2f8ab013e6fe00c86f"
      },
      "cell_type": "code",
      "source": "# grab any from newdf with 'jobtitle' str\nd_j = newdf[newdf['jobtitle'].str.contains('Data Analyst')]\nD_j = newdf[newdf['jobtitle'].str.contains('data analyst')]\nd__j = newdf[newdf['jobtitle'].str.contains('data  analyst')]\nDJ = newdf[newdf['jobtitle'].str.contains('dataanalyst')]\ndj = newdf[newdf['jobtitle'].str.contains('DataAnalyst')]\n\n#combine them all into one df by row\ndaj = pd.concat([d_j,D_j,d__j,DJ,dj], axis=0)\ndaj.head()\n",
      "execution_count": null,
      "outputs": []
    },
    {
      "metadata": {
        "trusted": true,
        "_uuid": "604083951d970c7be0525c40bd84a6025542f15a"
      },
      "cell_type": "code",
      "source": "# capture just the skills\ndajskills = daj.loc[:, 'Skill 1':]\ndajskills",
      "execution_count": null,
      "outputs": []
    },
    {
      "metadata": {
        "trusted": true,
        "_uuid": "ac80c1ec1e7c768c4f407b4db5cd5381ff16da3e"
      },
      "cell_type": "code",
      "source": "",
      "execution_count": null,
      "outputs": []
    },
    {
      "metadata": {
        "trusted": true,
        "_uuid": "52b16819fdf47c8b5a33b08c022f3f6a786ec06c"
      },
      "cell_type": "code",
      "source": "# remove the header\ndajskills.columns = range(stcksklls.shape[1])\ndajskills",
      "execution_count": null,
      "outputs": []
    },
    {
      "metadata": {
        "trusted": true,
        "_uuid": "3c97311b47252e794daa974510d9fd698f7a7174"
      },
      "cell_type": "code",
      "source": "# get them all in one Series\ndajskills.stack()\nprint(stcksklls)",
      "execution_count": null,
      "outputs": []
    },
    {
      "metadata": {
        "trusted": true,
        "_uuid": "7204b740f1937cfcdb3ebfe28988a5e309d5fa14"
      },
      "cell_type": "markdown",
      "source": "stcksk = stcksklls.stack()\nprint(stcksk.head())"
    },
    {
      "metadata": {
        "trusted": true,
        "_uuid": "74bafa514c7be2edd2275e2bb39fee1363cbb73b"
      },
      "cell_type": "markdown",
      "source": "# turn into Series\ndastcked = dastck.stack()\n\ncb = pd.crosstab(index=dastcked, columns=\"count\")\ncb"
    },
    {
      "metadata": {
        "trusted": true,
        "_uuid": "1462fbd28f2656410520216163af1e37fc2462fc"
      },
      "cell_type": "markdown",
      "source": "skillser = df.concat([newdf], axis=0)"
    },
    {
      "metadata": {
        "trusted": true,
        "_uuid": "0d96ce26815fe16cafb7bf88eabb1d22935eb3a0"
      },
      "cell_type": "code",
      "source": "dajlist = list(dajskills.values.flatten())\ndajlist = [x for x in dajlist if x is not None]\n",
      "execution_count": null,
      "outputs": []
    },
    {
      "metadata": {
        "trusted": true,
        "scrolled": false,
        "_uuid": "6fc90a94d52650c577b9e3223fa8ccbbe40c6d3b"
      },
      "cell_type": "code",
      "source": "\nskills = {}\nfor x in dajlist:\n    if x in skills:\n        skills[x] +=1\n    else:\n        skills[x] = 1\nskilldf = pd.Series(skills)\nskilldf\nskilldf.keys\n",
      "execution_count": null,
      "outputs": []
    },
    {
      "metadata": {
        "trusted": true,
        "_uuid": "949974335d86a6275ed5accf34b76cc4aeb8ea1b"
      },
      "cell_type": "code",
      "source": "daj = pd.Series(dajlist)\ndaj = daj.str.lower()\ndaj = daj.str.strip()\ndaj",
      "execution_count": null,
      "outputs": []
    },
    {
      "metadata": {
        "trusted": true,
        "_uuid": "692de8172267c3a078fdafdf7a955fd01f3fc4df"
      },
      "cell_type": "code",
      "source": "dajlen = [len(x) for x in daj]\navgdaj = sum(dajlen)/(len(dajlen))\n",
      "execution_count": null,
      "outputs": []
    },
    {
      "metadata": {
        "trusted": true,
        "_uuid": "16cc53b77a97ab4366353daa02bb58f7bb148ca7"
      },
      "cell_type": "code",
      "source": "mypalette = sns.color_palette('GnBu_d', 40)\nplt.figure(figsize=(20,10))\nsns.countplot(y=df['company'], order=df['company'].value_counts().index, palette=mypalette)\nplt.ylabel('Company Name', fontsize=14)\nplt.xlabel('Number of Job postings', fontsize=14)\nplt.title(\"Companies with most job postings\", fontsize=18)\nplt.ylim(20.5,-0.5)\nplt.show()",
      "execution_count": null,
      "outputs": []
    },
    {
      "metadata": {
        "trusted": true,
        "_uuid": "ff39b472051f81dec35594ad1b4b60a431d17834"
      },
      "cell_type": "code",
      "source": "mypalette = sns.color_palette('GnBu_d', 40)\nplt.figure(figsize=(20,10))\nsns.countplot(y=daj, order=daj.value_counts().index, palette=mypalette)\nplt.ylabel('Skill', fontsize=14)\nplt.xlabel('Count of Mentions', fontsize=14)\nplt.title(\"Demand for Skills for Data Analysts\", fontsize=18)\nplt.ylim(20.5,-0.5)\nplt.show()",
      "execution_count": null,
      "outputs": []
    },
    {
      "metadata": {
        "trusted": true,
        "_uuid": "349c338300d3a6c789b7ad47246d7a6f0063a86f"
      },
      "cell_type": "code",
      "source": "",
      "execution_count": null,
      "outputs": []
    }
  ],
  "metadata": {
    "kernelspec": {
      "display_name": "Python 3",
      "language": "python",
      "name": "python3"
    },
    "language_info": {
      "name": "python",
      "version": "3.6.6",
      "mimetype": "text/x-python",
      "codemirror_mode": {
        "name": "ipython",
        "version": 3
      },
      "pygments_lexer": "ipython3",
      "nbconvert_exporter": "python",
      "file_extension": ".py"
    }
  },
  "nbformat": 4,
  "nbformat_minor": 1
}